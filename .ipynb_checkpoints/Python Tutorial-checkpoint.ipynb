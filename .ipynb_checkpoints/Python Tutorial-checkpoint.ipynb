{
 "cells": [
  {
   "cell_type": "markdown",
   "id": "e9c61099-97dc-4b95-b86e-4bca23edfc74",
   "metadata": {
    "editable": true,
    "jp-MarkdownHeadingCollapsed": true,
    "slideshow": {
     "slide_type": ""
    },
    "tags": []
   },
   "source": [
    "# Variables In Python"
   ]
  },
  {
   "cell_type": "code",
   "execution_count": 1,
   "id": "47a1667d-54fc-4826-a91c-6caa40cc0e99",
   "metadata": {
    "collapsed": true,
    "jupyter": {
     "outputs_hidden": true
    }
   },
   "outputs": [
    {
     "data": {
      "text/plain": [
       "'We cannot use some of the words in python as they are reserved \\nfor calling some default functions like boolean functions where True and False are\\nnot be used as they are reserved'"
      ]
     },
     "execution_count": 1,
     "metadata": {},
     "output_type": "execute_result"
    }
   ],
   "source": [
    "\"\"\"We cannot use some of the words in python as they are reserved \n",
    "for calling some default functions like boolean functions where True and False are\n",
    "not be used as they are reserved\"\"\""
   ]
  },
  {
   "cell_type": "code",
   "execution_count": 2,
   "id": "4327d9e8-8cd4-4e4d-9829-d79e9cb6134b",
   "metadata": {
    "collapsed": true,
    "jupyter": {
     "outputs_hidden": true
    }
   },
   "outputs": [
    {
     "name": "stdout",
     "output_type": "stream",
     "text": [
      "total expense is:  46470\n"
     ]
    }
   ],
   "source": [
    "# some examples of the variables using personal expenses\n",
    "\n",
    "item1 = 25000\n",
    "item2 = 12500\n",
    "item3 = 3560\n",
    "item4 = 5410\n",
    "\n",
    "total = item1+item2+item3+item4\n",
    "print(\"total expense is: \",total)"
   ]
  },
  {
   "cell_type": "markdown",
   "id": "eae14860-da9b-437f-b3b6-1b6edcc56a7f",
   "metadata": {
    "jp-MarkdownHeadingCollapsed": true
   },
   "source": [
    "# Numbers in Python"
   ]
  },
  {
   "cell_type": "code",
   "execution_count": 3,
   "id": "8f588598-b47e-4ec9-9e20-fdd4bf7e5466",
   "metadata": {
    "collapsed": true,
    "jupyter": {
     "outputs_hidden": true,
     "source_hidden": true
    }
   },
   "outputs": [
    {
     "data": {
      "text/plain": [
       "8"
      ]
     },
     "execution_count": 3,
     "metadata": {},
     "output_type": "execute_result"
    }
   ],
   "source": [
    "10-2\n"
   ]
  },
  {
   "cell_type": "code",
   "execution_count": 4,
   "id": "cfa07177-9428-49c1-a150-643b24c9f6bf",
   "metadata": {
    "collapsed": true,
    "jupyter": {
     "outputs_hidden": true,
     "source_hidden": true
    }
   },
   "outputs": [
    {
     "data": {
      "text/plain": [
       "22"
      ]
     },
     "execution_count": 4,
     "metadata": {},
     "output_type": "execute_result"
    }
   ],
   "source": [
    "5+8+9"
   ]
  },
  {
   "cell_type": "code",
   "execution_count": 5,
   "id": "37739c82-9a34-440d-9c6d-d617be400277",
   "metadata": {
    "collapsed": true,
    "jupyter": {
     "outputs_hidden": true,
     "source_hidden": true
    }
   },
   "outputs": [
    {
     "data": {
      "text/plain": [
       "4.0"
      ]
     },
     "execution_count": 5,
     "metadata": {},
     "output_type": "execute_result"
    }
   ],
   "source": [
    "8/2\n"
   ]
  },
  {
   "cell_type": "code",
   "execution_count": 6,
   "id": "98bceae9-c3f1-4a4e-8d1f-d62dce82c062",
   "metadata": {
    "collapsed": true,
    "jupyter": {
     "outputs_hidden": true,
     "source_hidden": true
    }
   },
   "outputs": [
    {
     "data": {
      "text/plain": [
       "9"
      ]
     },
     "execution_count": 6,
     "metadata": {},
     "output_type": "execute_result"
    }
   ],
   "source": [
    "3*3"
   ]
  },
  {
   "cell_type": "code",
   "execution_count": 7,
   "id": "40e9d1d6-75b0-4791-b94f-0bb3133ab9bb",
   "metadata": {
    "collapsed": true,
    "jupyter": {
     "outputs_hidden": true,
     "source_hidden": true
    }
   },
   "outputs": [
    {
     "data": {
      "text/plain": [
       "85.42"
      ]
     },
     "execution_count": 7,
     "metadata": {},
     "output_type": "execute_result"
    }
   ],
   "source": [
    "dist_K_L = 1600\n",
    "dist_L_I = 450\n",
    "total_dist = dist_K_L + dist_L_I\n",
    "speed = 100\n",
    "total_time = 24\n",
    "avg_speed = total_dist / total_time\n",
    "round(avg_speed,2) # round is the key word used for the rounding up the number to n significant figures"
   ]
  },
  {
   "cell_type": "markdown",
   "id": "35f5c088-9270-4d99-b952-de7152148f9d",
   "metadata": {
    "jp-MarkdownHeadingCollapsed": true
   },
   "source": [
    "# Strings in Python"
   ]
  },
  {
   "cell_type": "code",
   "execution_count": 8,
   "id": "f73dc9fc-3afb-4c12-85f0-387b195ccd79",
   "metadata": {
    "collapsed": true,
    "jupyter": {
     "outputs_hidden": true
    }
   },
   "outputs": [
    {
     "data": {
      "text/plain": [
       "'alp'"
      ]
     },
     "execution_count": 8,
     "metadata": {},
     "output_type": "execute_result"
    }
   ],
   "source": [
    "# if we store any string in the variable \n",
    "# the way any string is stored is through index values which starts from 0\n",
    "# for example\n",
    "\n",
    "word = 'alphabet'\n",
    "word[0]\n",
    "\n",
    "# the word at 0 index value is a\n",
    "# we can do string slicing \n",
    "word[0:3] # here it will go from 0 index to 2 not 3 "
   ]
  },
  {
   "cell_type": "code",
   "execution_count": 9,
   "id": "6fdd35f9-005e-40f3-9701-9d11440fe331",
   "metadata": {
    "collapsed": true,
    "jupyter": {
     "outputs_hidden": true
    }
   },
   "outputs": [
    {
     "data": {
      "text/plain": [
       "'heloo world'"
      ]
     },
     "execution_count": 9,
     "metadata": {},
     "output_type": "execute_result"
    }
   ],
   "source": [
    "# we can add two strings as well\n",
    "a = \"heloo\"\n",
    "b = \"world\"\n",
    "a + \" \" + b"
   ]
  },
  {
   "cell_type": "code",
   "execution_count": 10,
   "id": "7d03b863-8859-43f6-9a58-bbedd6b36f9b",
   "metadata": {
    "collapsed": true,
    "jupyter": {
     "outputs_hidden": true
    }
   },
   "outputs": [
    {
     "data": {
      "text/plain": [
       "'25 street'"
      ]
     },
     "execution_count": 10,
     "metadata": {},
     "output_type": "execute_result"
    }
   ],
   "source": [
    "# we can also add string with a number as well using str() function\n",
    "\n",
    "a = 25\n",
    "b =\"street\"\n",
    "\n",
    "str(a)+' ' + b"
   ]
  },
  {
   "cell_type": "markdown",
   "id": "e1f86550-3efa-4ba3-ac07-cde726f69140",
   "metadata": {
    "jp-MarkdownHeadingCollapsed": true
   },
   "source": [
    "# If Statement"
   ]
  },
  {
   "cell_type": "code",
   "execution_count": 11,
   "id": "f41b2359-6126-43e1-bc72-26168f0a1a98",
   "metadata": {
    "collapsed": true,
    "jupyter": {
     "outputs_hidden": true
    }
   },
   "outputs": [],
   "source": [
    "# if statement is used when there are multiple conditions used when an input is taken from a user"
   ]
  },
  {
   "cell_type": "code",
   "execution_count": 12,
   "id": "41dd1645-b3f4-49f3-96da-d9dde065e911",
   "metadata": {
    "collapsed": true,
    "jupyter": {
     "outputs_hidden": true
    }
   },
   "outputs": [
    {
     "name": "stdin",
     "output_type": "stream",
     "text": [
      "Enter A Number: 2\n"
     ]
    },
    {
     "name": "stdout",
     "output_type": "stream",
     "text": [
      "the number is even\n"
     ]
    }
   ],
   "source": [
    "# for e.g taking an input from the user and then deciding whether it is an odd or even number\n",
    "\n",
    "num = int(input(\"Enter A Number:\")) #We use input() to read a number and int() to convert it to an integer, as input returns a string.\n",
    "\n",
    "if num%2 == 0:\n",
    "    print(\"the number is even\")\n",
    "else:\n",
    "    print(\"the number is odd\")\n",
    "\n",
    "\n"
   ]
  },
  {
   "cell_type": "markdown",
   "id": "7822ebc2-197e-437c-8349-5bf99060d3e2",
   "metadata": {
    "jp-MarkdownHeadingCollapsed": true
   },
   "source": [
    "# For Loop"
   ]
  },
  {
   "cell_type": "code",
   "execution_count": 13,
   "id": "74c4b8a5-3bfe-4c5f-828e-b9fd1901fdc1",
   "metadata": {
    "collapsed": true,
    "jupyter": {
     "outputs_hidden": true
    }
   },
   "outputs": [
    {
     "name": "stdout",
     "output_type": "stream",
     "text": [
      "this is the total cal1: 10438\n",
      "this is the total cal2: 10438\n"
     ]
    }
   ],
   "source": [
    "# calculating the expenses which in a list \n",
    "\n",
    "exp = [2130,2150,3100,512,2546]\n",
    "# normal calculation is done this way\n",
    "cal1= exp[0] + exp[1] + exp[2] + exp[3] + exp[4]\n",
    "print(\"this is the total cal1:\", cal1)\n",
    "\n",
    "# using the for loop\n",
    "cal2 = 0\n",
    "for item in exp:\n",
    "    cal2 = cal2 +item\n",
    "\n",
    "print(\"this is the total cal2:\", cal2)"
   ]
  },
  {
   "cell_type": "code",
   "execution_count": 14,
   "id": "48ab0f17-721c-4439-837d-d3ab90d12ef9",
   "metadata": {
    "collapsed": true,
    "jupyter": {
     "outputs_hidden": true
    }
   },
   "outputs": [
    {
     "name": "stdout",
     "output_type": "stream",
     "text": [
      "1\n",
      "2\n",
      "3\n",
      "4\n",
      "5\n",
      "6\n",
      "7\n",
      "8\n",
      "9\n",
      "10\n",
      "Square of Number 1: 1\n",
      "Square of Number 2: 4\n",
      "Square of Number 3: 9\n",
      "Square of Number 4: 16\n",
      "Square of Number 5: 25\n",
      "Square of Number 6: 36\n",
      "Square of Number 7: 49\n",
      "Square of Number 8: 64\n",
      "Square of Number 9: 81\n",
      "Square of Number 10: 100\n"
     ]
    }
   ],
   "source": [
    "# printing 1 to 10 using range() fn\n",
    "for i in range(1,11): # in range fn for example if we have to put number till 10 then we will have to put 11 as the function works in n-1 \n",
    "    print(i)\n",
    "\n",
    "# for a square of number\n",
    "for j in range(1,11):\n",
    "    print(f\"Square of Number {j}:\",j*j)"
   ]
  },
  {
   "cell_type": "code",
   "execution_count": 15,
   "id": "3f797d78-c1e7-42d8-a895-137cd1293191",
   "metadata": {
    "collapsed": true,
    "jupyter": {
     "outputs_hidden": true
    }
   },
   "outputs": [
    {
     "name": "stdout",
     "output_type": "stream",
     "text": [
      "key was not found at: living room\n",
      "key was not found at: behind the desk\n",
      "key was not found at: inside the bag\n",
      "key was found: under the bed\n"
     ]
    }
   ],
   "source": [
    "# searching for a lost key and terminating the function when found\n",
    "\n",
    "key_location = \"under the bed\"\n",
    "locations = [\"living room\",\"behind the desk\",\"inside the bag\",\"under the bed\",\"in the office\"]\n",
    "for location in locations:\n",
    "    if location == key_location:\n",
    "        print(\"key was found:\",location)\n",
    "        break\n",
    "    else:\n",
    "        print(\"key was not found at:\",location)\n",
    "\n",
    "\n",
    "# in this for loop the location was found in the 3rd index location hence the for loop is break and it did not iterated at 4th index"
   ]
  },
  {
   "cell_type": "code",
   "execution_count": 16,
   "id": "92dba347-ae92-43d7-a97a-d8dddd2dc8e1",
   "metadata": {
    "collapsed": true,
    "jupyter": {
     "outputs_hidden": true
    }
   },
   "outputs": [
    {
     "name": "stdout",
     "output_type": "stream",
     "text": [
      "1\n",
      "3\n",
      "5\n",
      "7\n",
      "9\n",
      "11\n",
      "13\n",
      "15\n",
      "17\n",
      "19\n",
      "21\n",
      "23\n"
     ]
    }
   ],
   "source": [
    "# printing square numbers except for even numbers\n",
    "\n",
    "for i in range(1,25):\n",
    "    if i%2 == 0:\n",
    "        continue\n",
    "    print(i)"
   ]
  },
  {
   "cell_type": "markdown",
   "id": "4e556ed0-c31f-48d9-86db-9c411eee4c3f",
   "metadata": {
    "jp-MarkdownHeadingCollapsed": true
   },
   "source": [
    "# Functions"
   ]
  },
  {
   "cell_type": "code",
   "execution_count": null,
   "id": "7ff433ab-0ed5-468b-a01a-37dca503677a",
   "metadata": {
    "collapsed": true,
    "jupyter": {
     "outputs_hidden": true
    }
   },
   "outputs": [],
   "source": []
  },
  {
   "cell_type": "code",
   "execution_count": null,
   "id": "f0e3b49c-a752-45dd-ad2f-49afafdc9a49",
   "metadata": {
    "collapsed": true,
    "jupyter": {
     "outputs_hidden": true
    }
   },
   "outputs": [],
   "source": []
  },
  {
   "cell_type": "code",
   "execution_count": 17,
   "id": "348e1b4f-8ac3-4f9b-811c-08f63f9bb91d",
   "metadata": {
    "collapsed": true,
    "jupyter": {
     "outputs_hidden": true
    }
   },
   "outputs": [
    {
     "name": "stdout",
     "output_type": "stream",
     "text": [
      "list total is:  11230\n",
      "list total is:  12040\n",
      "sum is: 12\n"
     ]
    }
   ],
   "source": [
    "# function made code modulars\n",
    "# using function for list calculation\n",
    "\"\"\" in this code we have used function to calculate the values in the list a and b\"\"\"\n",
    "list_a = [2000,1234,4543,3453]\n",
    "list_b = [2131,5435,1231,3243]\n",
    "\n",
    "def calculation(value):\n",
    "    \"\"\" this variable named as total will be only available in this function and cannot be called outside this function\"\"\"\n",
    "    total = 0\n",
    "    for values in value:\n",
    "        total = total + values\n",
    "    print(\"list total is: \",total)\n",
    "    return total\n",
    "\n",
    "list_a_total = calculation(list_a)\n",
    "list_b_total = calculation(list_b)\n",
    "\n",
    "\"\"\" now making a second funtion to take the sum of two integers by taking 2 arguements in the function\"\"\"\n",
    "\n",
    "def sum(x,y):\n",
    "    total = x + y\n",
    "    return total\n",
    "a = sum(5,7)\n",
    "print(\"sum is:\",a)\n"
   ]
  },
  {
   "cell_type": "code",
   "execution_count": null,
   "id": "ae2bcec2-f100-4d93-949a-1cf0c325a7a8",
   "metadata": {},
   "outputs": [],
   "source": []
  },
  {
   "cell_type": "code",
   "execution_count": null,
   "id": "3ba7d635-75e8-43cf-804f-cf7d5ff32b36",
   "metadata": {},
   "outputs": [],
   "source": []
  },
  {
   "cell_type": "markdown",
   "id": "bda66c5c-c0b8-49e9-97e9-429b6a7c44d3",
   "metadata": {
    "jp-MarkdownHeadingCollapsed": true
   },
   "source": [
    "# Dictionaries and Tuples"
   ]
  },
  {
   "cell_type": "code",
   "execution_count": 18,
   "id": "d9af0919-3c6d-4178-bd03-1879c923041d",
   "metadata": {
    "collapsed": true,
    "jupyter": {
     "outputs_hidden": true
    }
   },
   "outputs": [
    {
     "ename": "TypeError",
     "evalue": "'tuple' object does not support item assignment",
     "output_type": "error",
     "traceback": [
      "\u001b[1;31m---------------------------------------------------------------------------\u001b[0m",
      "\u001b[1;31mTypeError\u001b[0m                                 Traceback (most recent call last)",
      "Cell \u001b[1;32mIn[18], line 16\u001b[0m\n\u001b[0;32m     14\u001b[0m a \u001b[38;5;241m=\u001b[39m (\u001b[38;5;241m9\u001b[39m,\u001b[38;5;241m6\u001b[39m,\u001b[38;5;241m7\u001b[39m)\n\u001b[0;32m     15\u001b[0m \u001b[38;5;66;03m# now  changing the value of tuple\u001b[39;00m\n\u001b[1;32m---> 16\u001b[0m a[\u001b[38;5;241m2\u001b[39m] \u001b[38;5;241m=\u001b[39m \u001b[38;5;241m8\u001b[39m\n",
      "\u001b[1;31mTypeError\u001b[0m: 'tuple' object does not support item assignment"
     ]
    }
   ],
   "source": [
    "# dictionaries is a set of \"key and Value\" pair where both values are placed in curly bracket {}\n",
    "# taking an e.g of income in dollar or three people\n",
    "\"\"\"in a dictionary there are pairs of key and value which can be accessed by calling the dictionary variable and writing the key in square [] brackets\"\"\"\n",
    "\n",
    "income = {\"bilal\":3000, \"Shahood\":3220, \"Moiz\":5000}\n",
    "income[\"bilal\"]\n",
    "\n",
    "# adding a key value pair in existing dictionary\n",
    "income[\"ahmed\"] = 3241\n",
    "income\n",
    "\"\"\"there is differernce in dictionary and tuple that dictionary is homogeneous\"\"\"\n",
    "\"\"\"tuple is hetrogeneous meaning there can be int and string init at same time\"\"\"\n",
    "\"\"\"just like dictionary there is tuple but the values in tuple cannot be changed\"\"\"\n",
    "a = (9,6,7)\n",
    "# now  changing the value of tuple\n",
    "a[2] = 8"
   ]
  },
  {
   "cell_type": "markdown",
   "id": "c55722b1-8978-4053-a975-09d1e329c690",
   "metadata": {
    "jp-MarkdownHeadingCollapsed": true
   },
   "source": [
    "# Modules in Python"
   ]
  },
  {
   "cell_type": "code",
   "execution_count": 19,
   "id": "245eb6e4-b66a-4e40-bc83-852953205372",
   "metadata": {
    "collapsed": true,
    "jupyter": {
     "outputs_hidden": true
    }
   },
   "outputs": [
    {
     "name": "stdout",
     "output_type": "stream",
     "text": [
      "4.0\n",
      "64.0\n",
      "   December 1996\n",
      "Mo Tu We Th Fr Sa Su\n",
      "                   1\n",
      " 2  3  4  5  6  7  8\n",
      " 9 10 11 12 13 14 15\n",
      "16 17 18 19 20 21 22\n",
      "23 24 25 26 27 28 29\n",
      "30 31\n",
      "\n"
     ]
    }
   ],
   "source": [
    "\"\"\"There are multiple modules in python which can be used for multiple purposes\"\"\"\n",
    "# for e.g math module\n",
    "\n",
    "import math\n",
    "a = math.sqrt(16)\n",
    "b =math.pow(2,6)\n",
    "print(a)\n",
    "print(b)\n",
    "\n",
    "# we can use dir command to check the number of function available in a module  \n",
    "# another module is calendar\n",
    "import calendar as cl\n",
    "cal = cl.month(1996,12)\n",
    "print(cal)\n",
    "\n"
   ]
  },
  {
   "cell_type": "markdown",
   "id": "759564db-f5fa-48ea-97af-54911cb12fcd",
   "metadata": {
    "jp-MarkdownHeadingCollapsed": true
   },
   "source": [
    "# Working with JSON"
   ]
  },
  {
   "cell_type": "code",
   "execution_count": 20,
   "id": "6fb8401e-b956-4864-9201-3619a8d54b9d",
   "metadata": {
    "collapsed": true,
    "jupyter": {
     "outputs_hidden": true
    }
   },
   "outputs": [
    {
     "name": "stdout",
     "output_type": "stream",
     "text": [
      "{\"tom\": {\"name\": \"tom\", \"address\": \"street 3 house 214\", \"phone\": 123456789}, \"bob\": {\"name\": \"bob\", \"address\": \"street 2 house 109\", \"phone\": 987654321}}\n"
     ]
    }
   ],
   "source": [
    "# JSON = Java script object notation \n",
    "# JSON is similar to XML\n",
    "# JSON is like a dictionary and is light weight\n",
    "\"\"\"We will write two programs first we will create an address book and secondly we will read the address book\"\"\"\n",
    "\n",
    "book = {}\n",
    "book['tom'] = {\n",
    "    'name' : 'tom',\n",
    "    'address' : 'street 3 house 214',\n",
    "    'phone' : 123456789\n",
    "}\n",
    "\n",
    "book['bob'] = {\n",
    "    'name' : 'bob',\n",
    "    'address' : 'street 2 house 109',\n",
    "    'phone' : 987654321\n",
    "}\n",
    "\n",
    "import json\n",
    "s = json.dumps(book)\n",
    "print(s)\n",
    "import sys\n",
    "with open(\"d://Notebook//python//json.txt\",\"w\") as f:\n",
    "    f.write(s)\n"
   ]
  },
  {
   "cell_type": "code",
   "execution_count": 21,
   "id": "0fa95c51-f7d0-47d4-8552-38b953e71b08",
   "metadata": {
    "collapsed": true,
    "jupyter": {
     "outputs_hidden": true
    }
   },
   "outputs": [
    {
     "data": {
      "text/plain": [
       "{'tom': {'name': 'tom', 'address': 'street 3 house 214', 'phone': 123456789},\n",
       " 'bob': {'name': 'bob', 'address': 'street 2 house 109', 'phone': 987654321}}"
      ]
     },
     "execution_count": 21,
     "metadata": {},
     "output_type": "execute_result"
    }
   ],
   "source": [
    "# reading the data from the json file\n",
    "read = open(\"d://Notebook//python//json.txt\",\"r\")\n",
    "a = read.read()\n",
    "a\n",
    "book_1 = json.loads(a)\n",
    "book_1"
   ]
  },
  {
   "cell_type": "code",
   "execution_count": 22,
   "id": "baa9c2ac-ef1f-47c3-ab9e-c9060a886b2b",
   "metadata": {
    "collapsed": true,
    "jupyter": {
     "outputs_hidden": true
    }
   },
   "outputs": [
    {
     "data": {
      "text/plain": [
       "dict"
      ]
     },
     "execution_count": 22,
     "metadata": {},
     "output_type": "execute_result"
    }
   ],
   "source": [
    "type(book)"
   ]
  },
  {
   "cell_type": "code",
   "execution_count": 23,
   "id": "85e4ca93-7348-488d-9b60-685726f00a40",
   "metadata": {
    "collapsed": true,
    "jupyter": {
     "outputs_hidden": true
    }
   },
   "outputs": [
    {
     "data": {
      "text/plain": [
       "{'name': 'bob', 'address': 'street 2 house 109', 'phone': 987654321}"
      ]
     },
     "execution_count": 23,
     "metadata": {},
     "output_type": "execute_result"
    }
   ],
   "source": [
    "book_1['bob']"
   ]
  },
  {
   "cell_type": "code",
   "execution_count": 24,
   "id": "c3c12461-237a-4e00-b40d-0fe235054f88",
   "metadata": {
    "collapsed": true,
    "jupyter": {
     "outputs_hidden": true
    }
   },
   "outputs": [
    {
     "name": "stdout",
     "output_type": "stream",
     "text": [
      "{'name': 'tom', 'address': 'street 3 house 214', 'phone': 123456789}\n",
      "{'name': 'bob', 'address': 'street 2 house 109', 'phone': 987654321}\n"
     ]
    }
   ],
   "source": [
    "# printing all the values in the book_1\n",
    "for person in book_1:\n",
    "    print(book_1[person])"
   ]
  },
  {
   "cell_type": "markdown",
   "id": "12020f20-47c3-4bdc-8c00-cc559047a774",
   "metadata": {
    "jp-MarkdownHeadingCollapsed": true
   },
   "source": [
    "# Reading and Writing Files"
   ]
  },
  {
   "cell_type": "code",
   "execution_count": 25,
   "id": "d48708b8-5849-44b0-927e-de0b2837f3ae",
   "metadata": {
    "collapsed": true,
    "jupyter": {
     "outputs_hidden": true
    }
   },
   "outputs": [
    {
     "name": "stdout",
     "output_type": "stream",
     "text": [
      "Ami: Bilal Khana Khaya\n",
      "\n",
      "Bilal: nai abi nai khaya\n",
      "\n",
      "Ami: kb khaogy phir\n",
      "\n",
      "Bilal: raat ko ghr akar\n"
     ]
    }
   ],
   "source": [
    "# Create a new file and Write to it\n",
    "# read file line by line\n",
    "# File open Modes\n",
    "# with statement\n",
    "\n",
    "# creating a file\n",
    "f = open(\"d:\\\\Notebook\\\\python\\\\writefile.txt\",\"w\")\n",
    "f.write(\"This Text was written from a notebook\")\n",
    "f.close()\n",
    "# for appending any text in the file we put \"a\" in the place of \"w\" and put \\n so that it writes in the new line\n",
    "\n",
    "# Simple way of reading a file\n",
    "r = open(\"d:\\\\Notebook\\\\python\\\\readfile.txt\",\"r\")\n",
    "# print(r.read()) -> this is also a way of reading out a file\n",
    "for word in r:\n",
    "    print(word)\n",
    "r.close()"
   ]
  },
  {
   "cell_type": "code",
   "execution_count": 26,
   "id": "c61c7679-ec21-4883-87f2-498fcb41bc37",
   "metadata": {
    "collapsed": true,
    "jupyter": {
     "outputs_hidden": true
    }
   },
   "outputs": [
    {
     "data": {
      "text/plain": [
       "'\\nWe could have used \\'with\\' statement here which allows us not to write the r.close() as it does it by itself\\nwith open(\"d:\\\\Notebook\\\\python\\\\readfile.txt\",\"r\") as r:\\nprint(r.read())\\n'"
      ]
     },
     "execution_count": 26,
     "metadata": {},
     "output_type": "execute_result"
    }
   ],
   "source": [
    "# now we are counting the number of words in a line\n",
    "r = open(\"d:\\\\Notebook\\\\python\\\\readfile.txt\",\"r\")\n",
    "r_out = open(\"d:\\\\Notebook\\\\python\\\\readfile_out.txt\",\"w\")\n",
    "for word in r:\n",
    "    tokens = word.split(\" \") # tokens is the number of words in a line\n",
    "   # print(str(tokens)) # this separates the words in \" \"\n",
    "   # print(len(tokens)) # this will count the number of words in each line\n",
    "    r_out.write(\"wordcount:\"+str(len(tokens))+\" \"+word)\n",
    "r.close()\n",
    "r_out.close()\n",
    "\n",
    "\n",
    "\n",
    "\"\"\"\n",
    "We could have used 'with' statement here which allows us not to write the r.close() as it does it by itself\n",
    "with open(\"d:\\\\Notebook\\\\python\\\\readfile.txt\",\"r\") as r:\n",
    "print(r.read())\n",
    "\"\"\"\n",
    "\n",
    "\n",
    "\n"
   ]
  },
  {
   "cell_type": "markdown",
   "id": "c262482f-f817-4b70-80d9-d5830600062d",
   "metadata": {
    "jp-MarkdownHeadingCollapsed": true
   },
   "source": [
    "# Exception Handling"
   ]
  },
  {
   "cell_type": "code",
   "execution_count": 27,
   "id": "1e98273b-a54f-4b47-900f-032943412d71",
   "metadata": {
    "collapsed": true,
    "jupyter": {
     "outputs_hidden": true
    }
   },
   "outputs": [
    {
     "name": "stdin",
     "output_type": "stream",
     "text": [
      "number 1: 2\n",
      "number 2:  5\n"
     ]
    },
    {
     "name": "stdout",
     "output_type": "stream",
     "text": [
      "0.4\n"
     ]
    }
   ],
   "source": [
    "# exceptions are error detected at the time of execution of program\n",
    "# taking the example of division by 0 which is not possible or it is infinity\n",
    "# in this example we will put 0 as second input\n",
    "a = int(input(\"number 1:\"))\n",
    "b = int(input(\"number 2: \"))\n",
    "c = a/b\n",
    "print(c)\n",
    "# the output will show a traceback or error where division is not possible"
   ]
  },
  {
   "cell_type": "code",
   "execution_count": 28,
   "id": "4ea404df-c395-43e1-8e8e-ddef67bcb12c",
   "metadata": {
    "collapsed": true,
    "jupyter": {
     "outputs_hidden": true
    }
   },
   "outputs": [
    {
     "name": "stdin",
     "output_type": "stream",
     "text": [
      "number 1: 5\n",
      "number 2:  6\n"
     ]
    },
    {
     "name": "stdout",
     "output_type": "stream",
     "text": [
      "0.8333333333333334\n"
     ]
    }
   ],
   "source": [
    "# Now we will write the code for the execption handling\n",
    "a = int(input(\"number 1:\"))\n",
    "b = int(input(\"number 2: \"))\n",
    "try:\n",
    "    c = a/b\n",
    "except ZeroDivisionError as e:\n",
    "    c = None\n",
    "    print(\"Zero Exception occured: \",e)\n",
    "print(c)\n",
    "# we could use anything in the place of ZeroDivisionError but it is by default used for division by zero"
   ]
  },
  {
   "cell_type": "code",
   "execution_count": 29,
   "id": "680adcc3-144c-40bc-aad7-9f62a34c838b",
   "metadata": {
    "collapsed": true,
    "jupyter": {
     "outputs_hidden": true
    }
   },
   "outputs": [
    {
     "name": "stdin",
     "output_type": "stream",
     "text": [
      "number 1: 2\n",
      "number 2:  a\n"
     ]
    },
    {
     "name": "stdout",
     "output_type": "stream",
     "text": [
      "TypeError exception occured\n",
      "None\n"
     ]
    }
   ],
   "source": [
    "# for handling multiple exceptions \n",
    "# taking example that the number 2 input is a string \n",
    "a = int(input(\"number 1:\"))\n",
    "b = input(\"number 2: \")\n",
    "try:\n",
    "    c = a/b\n",
    "except ZeroDivisionError as e:\n",
    "    c = None\n",
    "    print(\"Zero Exception occured: \",e)\n",
    "except TypeError as f:\n",
    "    c = None\n",
    "    print(\"TypeError exception occured\")\n",
    "print(c)"
   ]
  },
  {
   "cell_type": "markdown",
   "id": "1aef7b8a-a197-435d-b6e4-38dc499a07ca",
   "metadata": {
    "jp-MarkdownHeadingCollapsed": true
   },
   "source": [
    "# Class and objects"
   ]
  },
  {
   "cell_type": "raw",
   "id": "0926ccca-84ff-4607-81d6-02cf8de19eae",
   "metadata": {},
   "source": [
    "\n",
    "What is class?\n",
    "Taking an example of a human being\n",
    "there are common things a human has\n",
    "\n",
    "1) Name\n",
    "2) Gender \n",
    "3) Occupation\n",
    "\n",
    "all of these things are must for every human being which makes it a property\n",
    "\n",
    "same way there is a thing called method\n",
    "method is like an act done by a human being for e.g\n",
    "\n",
    "1) Sleep\n",
    "2) talk\n",
    "3) walk\n",
    "4) eat\n",
    "\n",
    "which bring us to a conclusion that class is a combination of propertise and methods or a blue print or template\n",
    "\n",
    "Now what is object?\n",
    "it is an instance of a class or the entity created according to the blue print\n",
    "any two object of the same class can have similar propertise and methods\n",
    "\n"
   ]
  },
  {
   "cell_type": "code",
   "execution_count": 30,
   "id": "f06246d7-0296-4145-b121-9eb999c3f30b",
   "metadata": {
    "collapsed": true,
    "jupyter": {
     "outputs_hidden": true
    }
   },
   "outputs": [
    {
     "name": "stdout",
     "output_type": "stream",
     "text": [
      "Tom Cruise is an Actor\n",
      "Tom Cruise says how are you\n",
      "Ali plays tennis\n",
      "Ali says how are you\n"
     ]
    }
   ],
   "source": [
    "# making a class in python\n",
    "class Human:\n",
    "\n",
    "# we are defining the propertise of a class \n",
    "# self here means the class it self or we can say to initialise the attributes of an object\n",
    "    def __init__(self,n,o): \n",
    "        self.name = n\n",
    "        self.occupation = o\n",
    "\n",
    "    \n",
    "# now we are defining the methods     \n",
    "    def do_work(self):\n",
    "        if self.occupation == \"tennis player\":\n",
    "            print(self.name,\"plays tennis\")\n",
    "        elif self.occupation == \"Actor\":\n",
    "            print(self.name,\"is an Actor\")\n",
    "\n",
    "    def speaks(self):\n",
    "        print(self.name,\"says how are you\")\n",
    "\n",
    "\n",
    "# now creating the an instance\n",
    "\n",
    "bilal = Human(\"Tom Cruise\", \"Actor\")\n",
    "bilal.do_work()\n",
    "bilal.speaks()\n",
    "\n",
    "Ali = Human(\"Ali\",\"tennis player\")\n",
    "Ali.do_work()\n",
    "Ali.speaks()"
   ]
  },
  {
   "cell_type": "markdown",
   "id": "95c830e6-d1c5-4734-9bd4-6288712050ee",
   "metadata": {
    "jp-MarkdownHeadingCollapsed": true
   },
   "source": [
    "# Inheritance"
   ]
  },
  {
   "cell_type": "raw",
   "id": "00288960-6b6d-49d4-83e7-44297940cf54",
   "metadata": {},
   "source": [
    "taking an example of a class vehicle as vehicle is known as a mode of transportation\n",
    "now a car and motor cycle both are vehicle which are used for any transportation\n",
    "both have their own propertise methods\n",
    "we can say we have derived a subclass from main class vehicle\n",
    "or we can say that both the class \"car\" and \"motorcycle\" are classes that inherit some propertise from the class \"Vehicle\"\n",
    "\n",
    "Benefits of inheritance\n",
    "1) code reuse -> we can use same code on other app as well\n",
    "2) extensibility -> we can customize the code according to our need\n",
    "3) readability -> it provides a proper structure of the code "
   ]
  },
  {
   "cell_type": "code",
   "execution_count": 31,
   "id": "2a688019-7844-499b-9c78-6f19c44a9238",
   "metadata": {
    "collapsed": true,
    "jupyter": {
     "outputs_hidden": true
    }
   },
   "outputs": [
    {
     "name": "stdout",
     "output_type": "stream",
     "text": [
      "I am Car\n",
      "used for transportation\n",
      "use to commute to work\n",
      "\n",
      "\n",
      "I am MotorCycle\n",
      "used for transportation\n",
      "used for Bike racing\n",
      "\n",
      "\n",
      "True\n",
      "True\n"
     ]
    }
   ],
   "source": [
    "class Vehicle:\n",
    "    def general_usage(self):\n",
    "        print(\"used for transportation\")\n",
    "\n",
    "\n",
    "class Car(Vehicle):\n",
    "    def __init__(self):\n",
    "        print(\"I am Car\")\n",
    "        self.wheels = 4\n",
    "        self.roof = True\n",
    "\n",
    "    def specific_usage(self):\n",
    "        print(\"use to commute to work\")\n",
    "\n",
    "class MotorCycle(Vehicle):\n",
    "    def __init__(self):\n",
    "        print(\"I am MotorCycle\")\n",
    "        self.wheels= 2\n",
    "        self.root = False\n",
    "\n",
    "    def specific_usage(self):\n",
    "        print(\"used for Bike racing\")\n",
    "\n",
    "c = Car()\n",
    "c.general_usage()\n",
    "c.specific_usage()\n",
    "print(\"\\n\")\n",
    "m = MotorCycle()\n",
    "m.general_usage()\n",
    "m.specific_usage()\n",
    "print(\"\\n\")\n",
    "# we use two builtin methods which are isinstance and issubclass method\n",
    "# it tell us if an object is an instance of a specific class\n",
    "\n",
    "print(isinstance(c,Car))\n",
    "print(issubclass(Car,Vehicle))"
   ]
  },
  {
   "cell_type": "raw",
   "id": "36284cdc-3f69-4d93-9d09-41584d14095f",
   "metadata": {},
   "source": [
    "We can remove the general usage function call and we can call it directly by calling it in the child class for example \n",
    "\n",
    "class Vehicle:\n",
    "    def general_usage(self):\n",
    "        print(\"used for transportation\")\n",
    "\n",
    "\n",
    "class Car(Vehicle):\n",
    "    def __init__(self):\n",
    "        print(\"I am Car\")\n",
    "        self.wheels = 4\n",
    "        self.roof = True\n",
    "\n",
    "    def specific_usage(self):\n",
    "        print(\"use to commute to work\")\n",
    "        self.general_usage()\n",
    "\n",
    "class MotorCycle(Vehicle):\n",
    "    def __init__(self):\n",
    "        print(\"I am MotorCycle\")\n",
    "        self.wheels= 2\n",
    "        self.root = False\n",
    "\n",
    "    def specific_usage(self):\n",
    "        print(\"used for Bike racing\")\n",
    "        self.general_usage()\n",
    "\n",
    "c = Car()\n",
    "c.specific_usage()\n",
    "\n",
    "print(\"\\n\")\n",
    "\n",
    "m = MotorCycle()\n",
    "m.specific_usage()\n",
    "\n",
    "\n",
    "using this code we can simply call the specific_usage function and in that function we are also\n",
    "calling the general_usage function as well\n",
    "\n"
   ]
  },
  {
   "cell_type": "markdown",
   "id": "184c0c0c-a9e6-4025-bbb0-8c7aba23abdc",
   "metadata": {
    "jp-MarkdownHeadingCollapsed": true
   },
   "source": [
    "# Multiple Inheritance"
   ]
  },
  {
   "cell_type": "code",
   "execution_count": 32,
   "id": "7c079956-de0b-4b2c-afe6-fc828643330b",
   "metadata": {
    "collapsed": true,
    "jupyter": {
     "outputs_hidden": true
    },
    "scrolled": true
   },
   "outputs": [
    {
     "name": "stdout",
     "output_type": "stream",
     "text": [
      "I am child one enjoy sports\n",
      "I do gardening\n",
      "I do Cooking\n",
      "\n",
      "\n",
      "\n",
      "I am child two learning programing\n",
      "I do programing and API stuff\n",
      "I do cloud engineering\n"
     ]
    }
   ],
   "source": [
    "# Multiple Inheritance is used when there are 2 different class and their propertise are used in \n",
    "# a child class for calling a specific function\n",
    "\n",
    "class Father():\n",
    "    def gardening(self):\n",
    "        print(\"I do gardening\")\n",
    "\n",
    "class Mother():\n",
    "    def cooking(self):\n",
    "        print(\"I do Cooking\")\n",
    "\n",
    "class Child(Father,Mother):\n",
    "    def sport(self):\n",
    "        print(\"I am child one enjoy sports\")\n",
    "\n",
    "class Uncle():\n",
    "    def skills(self):\n",
    "        print(\"I do programing and API stuff\")\n",
    "\n",
    "class Aunty():\n",
    "    def skills(self):\n",
    "        print(\"I do cloud engineering\")\n",
    "\n",
    "class Child_two():\n",
    "    def learning(self):\n",
    "        print(\"I am child two learning programing\")\n",
    "        Uncle.skills(self)\n",
    "        Aunty.skills(self)\n",
    "        \n",
    "\n",
    "c = Child()\n",
    "c.sport()\n",
    "c.gardening()\n",
    "c.cooking()\n",
    "print(\"\\n\\n\")\n",
    "\n",
    "c_2 = Child_two()\n",
    "c_2.learning()\n"
   ]
  },
  {
   "cell_type": "markdown",
   "id": "0d40f057-726c-4010-a143-c0433782661f",
   "metadata": {
    "jp-MarkdownHeadingCollapsed": true
   },
   "source": [
    "# Raise Exception and Finally"
   ]
  },
  {
   "cell_type": "code",
   "execution_count": 39,
   "id": "b0275b59-07fa-4fdf-837d-df1e25589bf3",
   "metadata": {},
   "outputs": [
    {
     "name": "stdout",
     "output_type": "stream",
     "text": [
      "Accident ahead take alternative route Crash of 2 cars\n"
     ]
    }
   ],
   "source": [
    "class Accident(Exception): # creating a user defined exception where (Exception) is a predefined method in python\n",
    "    def __init__(self,msg):\n",
    "        self.msg = msg\n",
    "    def other_route(self):\n",
    "        print(\"Accident ahead take alternative route\",self.msg)\n",
    "\n",
    "\n",
    "\n",
    "try:\n",
    "    raise Accident('Crash of 2 cars')\n",
    "except Accident as e:\n",
    "    e.other_route()\n",
    "\n",
    "# exception is basicaly an object/instance of a class\n"
   ]
  },
  {
   "cell_type": "raw",
   "id": "1a8e375b-cf2c-48ce-9e14-b285e1bb4fff",
   "metadata": {},
   "source": [
    "Finally Statement is used because when ever we are writing the code and in the TRY section of code there are 1000 line of code where we dont know how many exception are happening therefore we use the finally key word for closing the file because if we dont use it and an exception occurs the execution might stop but the file which we might have accessed would still be using the resources. "
   ]
  },
  {
   "cell_type": "code",
   "execution_count": 45,
   "id": "6341499b-124b-41d8-9556-496addfff9a8",
   "metadata": {},
   "outputs": [
    {
     "name": "stdout",
     "output_type": "stream",
     "text": [
      "cleaning up file\n"
     ]
    },
    {
     "ename": "ZeroDivisionError",
     "evalue": "division by zero",
     "output_type": "error",
     "traceback": [
      "\u001b[1;31m---------------------------------------------------------------------------\u001b[0m",
      "\u001b[1;31mZeroDivisionError\u001b[0m                         Traceback (most recent call last)",
      "Cell \u001b[1;32mIn[45], line 13\u001b[0m\n\u001b[0;32m     10\u001b[0m         \u001b[38;5;28mprint\u001b[39m(\u001b[38;5;124m\"\u001b[39m\u001b[38;5;124mcleaning up file\u001b[39m\u001b[38;5;124m\"\u001b[39m)\n\u001b[0;32m     11\u001b[0m         f\u001b[38;5;241m.\u001b[39mclose()\n\u001b[1;32m---> 13\u001b[0m process_file()\n",
      "Cell \u001b[1;32mIn[45], line 6\u001b[0m, in \u001b[0;36mprocess_file\u001b[1;34m()\u001b[0m\n\u001b[0;32m      4\u001b[0m \u001b[38;5;28;01mtry\u001b[39;00m:\n\u001b[0;32m      5\u001b[0m     f \u001b[38;5;241m=\u001b[39m \u001b[38;5;28mopen\u001b[39m(\u001b[38;5;124m\"\u001b[39m\u001b[38;5;124md:\u001b[39m\u001b[38;5;130;01m\\\\\u001b[39;00m\u001b[38;5;124mNotebook\u001b[39m\u001b[38;5;130;01m\\\\\u001b[39;00m\u001b[38;5;124mpython\u001b[39m\u001b[38;5;130;01m\\\\\u001b[39;00m\u001b[38;5;124mcalculation.txt\u001b[39m\u001b[38;5;124m\"\u001b[39m)\n\u001b[1;32m----> 6\u001b[0m     x \u001b[38;5;241m=\u001b[39m \u001b[38;5;241m1\u001b[39m\u001b[38;5;241m/\u001b[39m\u001b[38;5;241m0\u001b[39m\n\u001b[0;32m      7\u001b[0m \u001b[38;5;28;01mexcept\u001b[39;00m \u001b[38;5;167;01mFileNotFoundError\u001b[39;00m \u001b[38;5;28;01mas\u001b[39;00m e:\n\u001b[0;32m      8\u001b[0m     \u001b[38;5;28mprint\u001b[39m(\u001b[38;5;124m\"\u001b[39m\u001b[38;5;124minside except\u001b[39m\u001b[38;5;124m\"\u001b[39m)\n",
      "\u001b[1;31mZeroDivisionError\u001b[0m: division by zero"
     ]
    }
   ],
   "source": [
    "# writing a code for finally key word\n",
    "\n",
    "def process_file():\n",
    "    try:\n",
    "        f = open(\"d:\\\\Notebook\\\\python\\\\calculation.txt\")\n",
    "        x = 1/0\n",
    "    except FileNotFoundError as e:\n",
    "        print(\"inside except\")\n",
    "    finally:\n",
    "        print(\"cleaning up file\")\n",
    "        f.close()\n",
    "\n",
    "process_file()"
   ]
  },
  {
   "cell_type": "code",
   "execution_count": null,
   "id": "5e7fea36-1c2d-47f4-894d-70eeb7e60533",
   "metadata": {},
   "outputs": [],
   "source": []
  },
  {
   "cell_type": "markdown",
   "id": "eb293d07-cbb3-4900-88bc-20dd9e73e134",
   "metadata": {
    "jp-MarkdownHeadingCollapsed": true
   },
   "source": [
    "# Iterators"
   ]
  },
  {
   "cell_type": "code",
   "execution_count": 47,
   "id": "d8b768a8-70c7-4c62-8a7c-14230a128914",
   "metadata": {},
   "outputs": [
    {
     "name": "stdout",
     "output_type": "stream",
     "text": [
      "hey\n",
      "bro\n",
      "how\n",
      "are\n",
      "you\n"
     ]
    }
   ],
   "source": [
    "a = ['hey','bro','how','are','you']\n",
    "for i in a:\n",
    "    print(i)"
   ]
  },
  {
   "cell_type": "code",
   "execution_count": 49,
   "id": "9046544e-b81e-46b9-8bf4-dd928acfed46",
   "metadata": {},
   "outputs": [
    {
     "data": {
      "text/plain": [
       "['__add__',\n",
       " '__class__',\n",
       " '__class_getitem__',\n",
       " '__contains__',\n",
       " '__delattr__',\n",
       " '__delitem__',\n",
       " '__dir__',\n",
       " '__doc__',\n",
       " '__eq__',\n",
       " '__format__',\n",
       " '__ge__',\n",
       " '__getattribute__',\n",
       " '__getitem__',\n",
       " '__getstate__',\n",
       " '__gt__',\n",
       " '__hash__',\n",
       " '__iadd__',\n",
       " '__imul__',\n",
       " '__init__',\n",
       " '__init_subclass__',\n",
       " '__iter__',\n",
       " '__le__',\n",
       " '__len__',\n",
       " '__lt__',\n",
       " '__mul__',\n",
       " '__ne__',\n",
       " '__new__',\n",
       " '__reduce__',\n",
       " '__reduce_ex__',\n",
       " '__repr__',\n",
       " '__reversed__',\n",
       " '__rmul__',\n",
       " '__setattr__',\n",
       " '__setitem__',\n",
       " '__sizeof__',\n",
       " '__str__',\n",
       " '__subclasshook__',\n",
       " 'append',\n",
       " 'clear',\n",
       " 'copy',\n",
       " 'count',\n",
       " 'extend',\n",
       " 'index',\n",
       " 'insert',\n",
       " 'pop',\n",
       " 'remove',\n",
       " 'reverse',\n",
       " 'sort']"
      ]
     },
     "execution_count": 49,
     "metadata": {},
     "output_type": "execute_result"
    }
   ],
   "source": [
    "dir(a)"
   ]
  },
  {
   "cell_type": "code",
   "execution_count": 51,
   "id": "0fd896df-78bb-431a-9144-1191654cacd1",
   "metadata": {},
   "outputs": [
    {
     "data": {
      "text/plain": [
       "<list_iterator at 0x2c53ae93be0>"
      ]
     },
     "execution_count": 51,
     "metadata": {},
     "output_type": "execute_result"
    }
   ],
   "source": [
    "itr = iter(a)\n",
    "itr"
   ]
  },
  {
   "cell_type": "code",
   "execution_count": 52,
   "id": "28b78bf7-54e0-4303-ac95-2b0ed44ed638",
   "metadata": {},
   "outputs": [
    {
     "name": "stdout",
     "output_type": "stream",
     "text": [
      "samaa\n",
      "geo\n",
      "ary\n",
      "hum\n"
     ]
    },
    {
     "ename": "StopIteration",
     "evalue": "",
     "output_type": "error",
     "traceback": [
      "\u001b[1;31m---------------------------------------------------------------------------\u001b[0m",
      "\u001b[1;31mStopIteration\u001b[0m                             Traceback (most recent call last)",
      "Cell \u001b[1;32mIn[52], line 19\u001b[0m\n\u001b[0;32m     17\u001b[0m \u001b[38;5;28mprint\u001b[39m(\u001b[38;5;28mnext\u001b[39m(itr))\n\u001b[0;32m     18\u001b[0m \u001b[38;5;28mprint\u001b[39m(\u001b[38;5;28mnext\u001b[39m(itr))\n\u001b[1;32m---> 19\u001b[0m \u001b[38;5;28mprint\u001b[39m(\u001b[38;5;28mnext\u001b[39m(itr))\n",
      "Cell \u001b[1;32mIn[52], line 10\u001b[0m, in \u001b[0;36mRemoteControl.__next__\u001b[1;34m(self)\u001b[0m\n\u001b[0;32m      8\u001b[0m \u001b[38;5;28mself\u001b[39m\u001b[38;5;241m.\u001b[39mindex \u001b[38;5;241m+\u001b[39m\u001b[38;5;241m=\u001b[39m \u001b[38;5;241m1\u001b[39m\n\u001b[0;32m      9\u001b[0m \u001b[38;5;28;01mif\u001b[39;00m \u001b[38;5;28mself\u001b[39m\u001b[38;5;241m.\u001b[39mindex \u001b[38;5;241m==\u001b[39m \u001b[38;5;28mlen\u001b[39m(\u001b[38;5;28mself\u001b[39m\u001b[38;5;241m.\u001b[39mchannels):\n\u001b[1;32m---> 10\u001b[0m     \u001b[38;5;28;01mraise\u001b[39;00m \u001b[38;5;167;01mStopIteration\u001b[39;00m\n\u001b[0;32m     11\u001b[0m \u001b[38;5;28;01mreturn\u001b[39;00m \u001b[38;5;28mself\u001b[39m\u001b[38;5;241m.\u001b[39mchannels[\u001b[38;5;28mself\u001b[39m\u001b[38;5;241m.\u001b[39mindex]\n",
      "\u001b[1;31mStopIteration\u001b[0m: "
     ]
    }
   ],
   "source": [
    "class RemoteControl():\n",
    "    def __init__(self):\n",
    "        self.channels = ['samaa','geo','ary','hum']\n",
    "        self.index = -1\n",
    "    def __iter__(self):\n",
    "        return(self)\n",
    "    def __next__(self):\n",
    "        self.index += 1\n",
    "        if self.index == len(self.channels):\n",
    "            raise StopIteration\n",
    "        return self.channels[self.index]\n",
    "\n",
    "r = RemoteControl()\n",
    "itr = iter(r)\n",
    "print(next(itr))\n",
    "print(next(itr))\n",
    "print(next(itr))\n",
    "print(next(itr))\n",
    "print(next(itr))\n"
   ]
  },
  {
   "cell_type": "markdown",
   "id": "e5fe7d2a-a6d3-4f0c-9b2f-4bfac1b053e4",
   "metadata": {
    "jp-MarkdownHeadingCollapsed": true
   },
   "source": [
    "# Generators"
   ]
  },
  {
   "cell_type": "raw",
   "id": "45a50059-eaa2-4ed2-8439-873279e95ddb",
   "metadata": {},
   "source": [
    "a simple way of creating the iterators\n",
    "\n",
    "yield and return are same to some extent\n",
    "\n",
    "return function returns and destroys everything after completing \n",
    "yield function preserves the state of last execution\n",
    "yield is usefull when we have a long list of values and we dont want to return them in one shot as returning all values in one shot requires a lot of memory secondly in return the compiler has to process the values in the code block \n",
    "where as yield we can produce the result and get the return immideatley \n"
   ]
  },
  {
   "cell_type": "code",
   "execution_count": 56,
   "id": "c4f0a1e1-3c49-4ae6-af30-eac8f2b9ac5f",
   "metadata": {},
   "outputs": [
    {
     "name": "stdout",
     "output_type": "stream",
     "text": [
      "cnn\n",
      "espn\n"
     ]
    }
   ],
   "source": [
    "def remote_control_next():\n",
    "    yield \"cnn\"\n",
    "    yield \"espn\"\n",
    "\n",
    "itr = remote_control_next()\n",
    "itr\n",
    "\n",
    "print(next(itr))\n",
    "print(next(itr))"
   ]
  },
  {
   "cell_type": "code",
   "execution_count": 58,
   "id": "8dad407a-7135-4c8b-a4cd-d6c7778042a4",
   "metadata": {},
   "outputs": [
    {
     "name": "stdout",
     "output_type": "stream",
     "text": [
      "0\n",
      "1\n",
      "1\n",
      "2\n",
      "3\n",
      "5\n",
      "8\n",
      "13\n",
      "21\n",
      "34\n",
      "55\n",
      "89\n"
     ]
    }
   ],
   "source": [
    "# creating a fibonacci series\n",
    "\n",
    "def fib():\n",
    "    a , b = 0 , 1\n",
    "    while True:\n",
    "        yield a\n",
    "        a,b = b , a+b\n",
    "\n",
    "for f in fib():\n",
    "    if f > 100:\n",
    "        break\n",
    "    print(f)"
   ]
  },
  {
   "cell_type": "raw",
   "id": "f7f5eabe-f0e8-4315-94e2-248dd7cb3159",
   "metadata": {},
   "source": [
    "Benefit of generator over class based iterator is that\n",
    "\n",
    "1) you don't need to define iter() and next() methods\n",
    "2) you don't need to raise StopIteration exceptions\n",
    "\n"
   ]
  },
  {
   "cell_type": "markdown",
   "id": "e27349b0-3822-4b18-9e6a-679af5633bed",
   "metadata": {
    "jp-MarkdownHeadingCollapsed": true
   },
   "source": [
    "# list Set Dictionary Comprehension"
   ]
  },
  {
   "cell_type": "raw",
   "id": "81508a95-4fcb-421b-b5c9-7881c1873078",
   "metadata": {},
   "source": [
    "list comprehension provides a way to transform one list into another and same for Set and Dictionary\n",
    "\n"
   ]
  },
  {
   "cell_type": "code",
   "execution_count": 67,
   "id": "b5cea13c-717a-4c88-ba63-7d331540eb00",
   "metadata": {},
   "outputs": [
    {
     "data": {
      "text/plain": [
       "[1, 4, 9, 16, 25, 36, 49]"
      ]
     },
     "execution_count": 67,
     "metadata": {},
     "output_type": "execute_result"
    }
   ],
   "source": [
    "# example of list comprehension\n",
    "\n",
    "numbers = [1,2,3,4,5,6,7]\n",
    "even = []\n",
    "for i in numbers:\n",
    "    if i % 2 == 0:\n",
    "        even.append(i)\n",
    "\n",
    "even\n",
    "# in the above code we wrote about 3 lines of code\n",
    "# list comprehension provides us a way to write code in a single line\n",
    "\n",
    "even = [i for i in numbers if i % 2 == 0 ]\n",
    "even\n",
    "sqr_numbers = [i*i for i in numbers]\n",
    "sqr_numbers\n"
   ]
  },
  {
   "cell_type": "code",
   "execution_count": 69,
   "id": "a9e9726d-3ab0-43d8-9dca-18cfe863b6d2",
   "metadata": {},
   "outputs": [
    {
     "data": {
      "text/plain": [
       "[2, 4, 6]"
      ]
     },
     "execution_count": 69,
     "metadata": {},
     "output_type": "execute_result"
    }
   ],
   "source": [
    "# example of sets comprehension\n",
    "# set are in-ordered collection of numbers\n",
    "s = set([1,2,3,3,4,5,1,6,7])\n",
    "s\n",
    "\n",
    "# it will clear the repeative number\n",
    "# for finding even number in sets \n",
    "s_even = [i for i in s if i % 2 ==0]\n",
    "s_even"
   ]
  },
  {
   "cell_type": "code",
   "execution_count": 74,
   "id": "4eb6aab9-3606-48b0-9905-943d81fccfd8",
   "metadata": {},
   "outputs": [
    {
     "name": "stdout",
     "output_type": "stream",
     "text": [
      "('Karachi', 'Pakistan')\n",
      "('Newyork', 'America')\n",
      "('Manchester', 'England')\n",
      "('Tokyo', 'Japan')\n"
     ]
    },
    {
     "data": {
      "text/plain": [
       "{'Karachi': 'Pakistan',\n",
       " 'Newyork': 'America',\n",
       " 'Manchester': 'England',\n",
       " 'Tokyo': 'Japan'}"
      ]
     },
     "execution_count": 74,
     "metadata": {},
     "output_type": "execute_result"
    }
   ],
   "source": [
    "# Dictionary comprehension\n",
    "# we have two list country and city\n",
    "\n",
    "cities = ['Karachi','Newyork','Manchester','Tokyo']\n",
    "countries = ['Pakistan','America','England','Japan']\n",
    "\n",
    "# for creating a dictionary where cities is key and country is value\n",
    "# we use zip function\n",
    "# what zip funtion does is it combines two list into tuples\n",
    "\n",
    "z = zip(cities,countries)\n",
    "z # an object is created now we need to iterate through this object to print the tuple\n",
    "\n",
    "for i in z:\n",
    "    print(i)\n",
    "# this printed form will be in tuple \n",
    "# now to make it in dictionary form we need to do comprehension in it\n",
    "d = {city:country for city, country in zip(cities,countries)}\n",
    "d\n"
   ]
  },
  {
   "cell_type": "markdown",
   "id": "5dfb0b3b-7cf2-4f9b-8fb7-ef082ce3337a",
   "metadata": {
    "jp-MarkdownHeadingCollapsed": true
   },
   "source": [
    "# Set and Frozen Sets\n"
   ]
  },
  {
   "cell_type": "raw",
   "id": "876946cd-12d1-48ce-9a1d-6cc1e6d252c7",
   "metadata": {},
   "source": [
    "sets are unordered collection of unique elements\n"
   ]
  },
  {
   "cell_type": "code",
   "execution_count": 8,
   "id": "74fd83f1-68ad-456c-abfb-50d4c17d98ce",
   "metadata": {},
   "outputs": [
    {
     "data": {
      "text/plain": [
       "set"
      ]
     },
     "execution_count": 8,
     "metadata": {},
     "output_type": "execute_result"
    }
   ],
   "source": [
    "basket = {\"orange\",\"apple\",\"mango\",\"pineapple\",\"orange\",\"apple\"}\n",
    "type(basket)"
   ]
  },
  {
   "cell_type": "code",
   "execution_count": 7,
   "id": "6fff09d3-7d1c-4966-a3e6-2842cdb01950",
   "metadata": {},
   "outputs": [
    {
     "data": {
      "text/plain": [
       "dict"
      ]
     },
     "execution_count": 7,
     "metadata": {},
     "output_type": "execute_result"
    }
   ],
   "source": [
    "# there is another way of initializing sets\n",
    "a = set()\n",
    "a.add(1)\n",
    "a.add(2)\n",
    "a\n",
    "type(a)\n",
    "a = {}\n",
    "type(a)"
   ]
  },
  {
   "cell_type": "code",
   "execution_count": 10,
   "id": "a2d0bd2d-1c02-40c6-9730-ca75031cc83e",
   "metadata": {},
   "outputs": [
    {
     "ename": "TypeError",
     "evalue": "'set' object is not subscriptable",
     "output_type": "error",
     "traceback": [
      "\u001b[1;31m---------------------------------------------------------------------------\u001b[0m",
      "\u001b[1;31mTypeError\u001b[0m                                 Traceback (most recent call last)",
      "Cell \u001b[1;32mIn[10], line 2\u001b[0m\n\u001b[0;32m      1\u001b[0m \u001b[38;5;66;03m# we also cannot access any element in the set by using the index number for example\u001b[39;00m\n\u001b[1;32m----> 2\u001b[0m basket[\u001b[38;5;241m1\u001b[39m]\n",
      "\u001b[1;31mTypeError\u001b[0m: 'set' object is not subscriptable"
     ]
    }
   ],
   "source": [
    "# we also cannot access any element in the set by using the index number for example\n",
    "basket[1]\n",
    "# it will show error as TypeError"
   ]
  },
  {
   "cell_type": "code",
   "execution_count": 13,
   "id": "6ba2916b-150a-4601-8e35-fd63bc4e757f",
   "metadata": {},
   "outputs": [
    {
     "data": {
      "text/plain": [
       "{1, 2, 3, 4, 5, 6}"
      ]
     },
     "execution_count": 13,
     "metadata": {},
     "output_type": "execute_result"
    }
   ],
   "source": [
    "# sets are used multiple times for multiple purposes specifically for eleminating the repetitive numbers\n",
    "# for example\n",
    "numbers = [1,2,3,4,5,1,2,3,4]\n",
    "uni_numbers = set(numbers)\n",
    "uni_numbers # here the repititive numbers will be eleminated\n",
    "# for adding any new number we use add() function\n",
    "uni_numbers.add(6)\n",
    "uni_numbers"
   ]
  },
  {
   "cell_type": "code",
   "execution_count": 15,
   "id": "dda83286-5400-41b5-8842-72557cc03017",
   "metadata": {},
   "outputs": [
    {
     "ename": "AttributeError",
     "evalue": "'frozenset' object has no attribute 'add'",
     "output_type": "error",
     "traceback": [
      "\u001b[1;31m---------------------------------------------------------------------------\u001b[0m",
      "\u001b[1;31mAttributeError\u001b[0m                            Traceback (most recent call last)",
      "Cell \u001b[1;32mIn[15], line 7\u001b[0m\n\u001b[0;32m      5\u001b[0m fs\n\u001b[0;32m      6\u001b[0m \u001b[38;5;66;03m# it will not allow to add or remove any value in it\u001b[39;00m\n\u001b[1;32m----> 7\u001b[0m fs\u001b[38;5;241m.\u001b[39madd(\u001b[38;5;241m1\u001b[39m)\n",
      "\u001b[1;31mAttributeError\u001b[0m: 'frozenset' object has no attribute 'add'"
     ]
    }
   ],
   "source": [
    "# if we want to a set where the values cannot be changed then we use frozen set\n",
    "\n",
    "fset = [\"orange\",\"apple\",\"banana\",\"mango\",\"mango\",\"pineapple\"]\n",
    "fs = frozenset(fset)\n",
    "fs\n",
    "# it will not allow to add or remove any value in it\n",
    "fs.add(1)"
   ]
  },
  {
   "cell_type": "code",
   "execution_count": 17,
   "id": "2b370c44-9274-4060-8988-cb8d50002cc4",
   "metadata": {},
   "outputs": [
    {
     "data": {
      "text/plain": [
       "True"
      ]
     },
     "execution_count": 17,
     "metadata": {},
     "output_type": "execute_result"
    }
   ],
   "source": [
    "x = {\"a\",\"b\",\"c\",\"d\"}\n",
    "\"a\" in x"
   ]
  },
  {
   "cell_type": "code",
   "execution_count": 18,
   "id": "33e4ff04-d1a0-4e98-a139-09e1ed1f0384",
   "metadata": {},
   "outputs": [
    {
     "name": "stdout",
     "output_type": "stream",
     "text": [
      "orange\n",
      "banana\n",
      "mango\n",
      "pineapple\n",
      "apple\n"
     ]
    }
   ],
   "source": [
    "#we can also Iterate in frozen set\n",
    "for i in fs:\n",
    "    print(i)"
   ]
  },
  {
   "cell_type": "code",
   "execution_count": 21,
   "id": "1fb912b9-13f8-4459-8a57-ca1bc18da1f7",
   "metadata": {},
   "outputs": [
    {
     "name": "stdout",
     "output_type": "stream",
     "text": [
      "{'a', 'e', 'h', 'g', 'f', 'b', 'd', 'c', 'j'}\n",
      "{'e', 'd', 'c'}\n",
      "{'a', 'b'}\n",
      "False\n",
      "False\n"
     ]
    }
   ],
   "source": [
    "# using the OR AND NOT for sets\n",
    "a = {\"a\",\"b\",\"c\",\"d\",\"e\"}\n",
    "b = {\"c\",\"d\",\"e\",\"f\",\"g\",\"h\",\"j\"}\n",
    "\n",
    "print(a|b)\n",
    "print(a&b)\n",
    "print(a-b)\n",
    "print(a<b)\n",
    "print(b<a)"
   ]
  },
  {
   "cell_type": "markdown",
   "id": "db4b8050-cb80-4400-b287-72b40be2438f",
   "metadata": {
    "jp-MarkdownHeadingCollapsed": true
   },
   "source": [
    "# Command line arguement processing using argparse"
   ]
  },
  {
   "cell_type": "raw",
   "id": "1d71680a-9ae9-47b2-bdb3-2769125f14b3",
   "metadata": {},
   "source": [
    "processing command line arguement is considered a common thing in programming"
   ]
  },
  {
   "cell_type": "code",
   "execution_count": 22,
   "id": "24f484be-03e0-4dab-8ae7-d222cd9e6fde",
   "metadata": {},
   "outputs": [],
   "source": [
    "import argparse"
   ]
  },
  {
   "cell_type": "code",
   "execution_count": 23,
   "id": "81693cb9-8e66-473e-b163-a017a48b5cbe",
   "metadata": {},
   "outputs": [
    {
     "ename": "AttributeError",
     "evalue": "module 'argparse' has no attribute 'ArguementParser'",
     "output_type": "error",
     "traceback": [
      "\u001b[1;31m---------------------------------------------------------------------------\u001b[0m",
      "\u001b[1;31mAttributeError\u001b[0m                            Traceback (most recent call last)",
      "Cell \u001b[1;32mIn[23], line 2\u001b[0m\n\u001b[0;32m      1\u001b[0m \u001b[38;5;28;01mif\u001b[39;00m \u001b[38;5;18m__name__\u001b[39m \u001b[38;5;241m==\u001b[39m \u001b[38;5;124m\"\u001b[39m\u001b[38;5;124m__main__\u001b[39m\u001b[38;5;124m\"\u001b[39m:\n\u001b[1;32m----> 2\u001b[0m     parser \u001b[38;5;241m=\u001b[39m argparse\u001b[38;5;241m.\u001b[39mArguementParser()\n\u001b[0;32m      3\u001b[0m     parser\u001b[38;5;241m.\u001b[39madd_arguement(\u001b[38;5;124m\"\u001b[39m\u001b[38;5;124mnumber1\u001b[39m\u001b[38;5;124m\"\u001b[39m, help \u001b[38;5;241m=\u001b[39m \u001b[38;5;124m\"\u001b[39m\u001b[38;5;124mfirst number\u001b[39m\u001b[38;5;124m\"\u001b[39m)\n\u001b[0;32m      4\u001b[0m     parser\u001b[38;5;241m.\u001b[39madd_arguement(\u001b[38;5;124m\"\u001b[39m\u001b[38;5;124mnumber2\u001b[39m\u001b[38;5;124m\"\u001b[39m, help \u001b[38;5;241m=\u001b[39m \u001b[38;5;124m\"\u001b[39m\u001b[38;5;124msecond number\u001b[39m\u001b[38;5;124m\"\u001b[39m)\n",
      "\u001b[1;31mAttributeError\u001b[0m: module 'argparse' has no attribute 'ArguementParser'"
     ]
    }
   ],
   "source": [
    "if __name__ == \"__main__\":\n",
    "    parser = argparse.ArguementParser()\n",
    "    parser.add_arguement(\"number1\", help = \"first number\")\n",
    "    parser.add_arguement(\"number2\", help = \"second number\")\n",
    "    parser.add_arguement(\"operation\", help = \"operation\")\n",
    "\n",
    "    args = parser.parser_args()\n",
    "    print(args.number1)\n",
    "    print(args.number2)\n",
    "    print(args.operation)\n",
    "\n",
    "    n1 = int(args.number1)\n",
    "    n2 = int(args.number2)\n",
    "    result = None\n",
    "    if args.operation == \"add\":\n",
    "        result = n1 + n2\n",
    "    elif args.operation == \"subtract\":\n",
    "        result = n1 - n2\n",
    "    elif args.operation == \"multiply\":\n",
    "        result = n1 * n2\n",
    "    print(result)"
   ]
  },
  {
   "cell_type": "code",
   "execution_count": null,
   "id": "55262885-341a-4e2e-b216-3246af61790d",
   "metadata": {},
   "outputs": [],
   "source": []
  },
  {
   "cell_type": "markdown",
   "id": "00735c39-f384-45d7-aac5-573f77a8ba58",
   "metadata": {
    "jp-MarkdownHeadingCollapsed": true
   },
   "source": [
    "# Decorators"
   ]
  },
  {
   "cell_type": "code",
   "execution_count": null,
   "id": "9a8f6f4f-16af-490d-988b-6950e9dbcd06",
   "metadata": {},
   "outputs": [],
   "source": [
    "# what problem does decorators resolve?\n",
    "# decorator allow us to wrap our function into another function \n",
    "# sometimes we have a need of measuring the performance of a function\n",
    "# by performance we mean the time taken for completion of function\n",
    "# for time measuring we import time library"
   ]
  },
  {
   "cell_type": "code",
   "execution_count": 7,
   "id": "8b57a65c-261f-49b3-bc73-d1f27c6d9d43",
   "metadata": {},
   "outputs": [
    {
     "name": "stdout",
     "output_type": "stream",
     "text": [
      "square time calculation took 9.999990463256836 mili second\n",
      "cube time calculation took  14.957666397094727  mili second\n"
     ]
    }
   ],
   "source": [
    "import time\n",
    "\n",
    "\n",
    "def calc_square(numbers):\n",
    "    start = time.time()\n",
    "    result = []\n",
    "    for number in numbers:\n",
    "        result.append(number*number)\n",
    "    end = time.time()\n",
    "    print(\"square time calculation took\" \" \"+ str((end-start)*1000) +\" \" \"mili second\")\n",
    "    return result\n",
    "\n",
    "def calc_cube(numbers):\n",
    "    start = time.time()\n",
    "    result = []\n",
    "    for number in numbers:\n",
    "        result.append(number*number*number)\n",
    "    end = time.time()\n",
    "    print(\"cube time calculation took \" \" \"  + str((end-start)*1000) +\" \" \" mili second\")\n",
    "    return result\n",
    "\n",
    "array = range(1,100000)\n",
    "squred = calc_square(array)\n",
    "cubed = calc_cube(array)\n"
   ]
  },
  {
   "cell_type": "code",
   "execution_count": 10,
   "id": "191954cc-6a60-47e0-a883-a54b190bd11f",
   "metadata": {},
   "outputs": [
    {
     "name": "stdout",
     "output_type": "stream",
     "text": [
      "calc_square took 28.516054153442383 time in mil sec\n",
      "calc_cube took 38.114309310913086 time in mil sec\n"
     ]
    }
   ],
   "source": [
    "# considering this code we have to measure the performance of many functions by measure the time taken for execution\n",
    "# at this point we use decorator which wrap the function into another function \n",
    "# For example \n",
    "\n",
    "\n",
    "# defining wrapper function which is taking func as an arguement  \n",
    "def time_it(func): \n",
    "    def wrapper(*args, **kwargs):\n",
    "        start = time.time()\n",
    "        result = func(*args, **kwargs)\n",
    "        end = time.time()\n",
    "        print(func.__name__+ \" \"\"took \"+ str((end-start)*1000)+\" \"\"time in mil sec\")\n",
    "        return result\n",
    "    return wrapper\n",
    "\n",
    "\n",
    "# we call \n",
    "@time_it # this is the decorate function called \n",
    "def calc_square(numbers):\n",
    "    result = []\n",
    "    for number in numbers:\n",
    "        result.append(number*number)\n",
    "    return result\n",
    "\n",
    "@time_it\n",
    "def calc_cube(numbers):\n",
    "    result = []\n",
    "    for number in numbers:\n",
    "        result.append(number*number*number)\n",
    "    return result\n",
    "\n",
    "array = range(1,100000)\n",
    "squred = calc_square(array)\n",
    "cubed = calc_cube(array)\n",
    "\n",
    "\n"
   ]
  },
  {
   "cell_type": "markdown",
   "id": "5e6632ff-361e-4d6c-a2ae-93cb2c1840bd",
   "metadata": {},
   "source": [
    "# Multi Threading "
   ]
  },
  {
   "cell_type": "raw",
   "id": "128f6735-8484-4e4d-8750-6c15986e00e4",
   "metadata": {},
   "source": [
    "\n",
    "What is Multithreading?\n",
    "\n",
    "Taking an example of mother who is a house wife she handles multiple things at the same time\n",
    "for e.g\n",
    "handling a new born child \n",
    "cooking food\n",
    "washing cloths\n",
    "cleaning the house etc \n",
    "\n",
    "\n",
    "all task done at same time is called multithreading\n",
    "\n"
   ]
  },
  {
   "cell_type": "code",
   "execution_count": 4,
   "id": "39f1c9d5-2f5e-45ad-9535-a1d295b7cac4",
   "metadata": {},
   "outputs": [
    {
     "name": "stdout",
     "output_type": "stream",
     "text": [
      "Calculating Square numbers\n",
      "\n",
      "Square of Numbers are:  4\n",
      "Square of Numbers are:  9\n",
      "Square of Numbers are:  49\n",
      "Square of Numbers are:  64\n",
      "Square of Numbers are:  9\n",
      "Square of Numbers are:  121\n",
      "\n",
      "Calculating Cube of numbers\n",
      "\n",
      "Cube of Numbers are:  8\n",
      "Cube of Numbers are:  27\n",
      "Cube of Numbers are:  343\n",
      "Cube of Numbers are:  512\n",
      "Cube of Numbers are:  27\n",
      "Cube of Numbers are:  1331\n",
      "time taken 2.4063947200775146\n",
      "done now\n"
     ]
    }
   ],
   "source": [
    "# the code below is not multithreading code it is simple code\n",
    "\n",
    "import time\n",
    "\n",
    "def cal_sqr(numbers):\n",
    "    print(\"Calculating Square numbers\\n\")\n",
    "    for i in numbers:\n",
    "        time.sleep(0.2)\n",
    "        print(\"Square of Numbers are: \",i*i)\n",
    "\n",
    "def cal_cube(numbers):\n",
    "    print(\"\\nCalculating Cube of numbers\\n\")\n",
    "    for i in numbers:\n",
    "        time.sleep(0.2)\n",
    "        print(\"Cube of Numbers are: \",i*i*i)\n",
    "\n",
    "\n",
    "array = [2,3,7,8,3,11]\n",
    "t = time.time()\n",
    "sqr =  cal_sqr(array)\n",
    "cube = cal_cube(array)\n",
    "\n",
    "print(\"time taken\", time.time() - t )\n",
    "print(\"done now\")"
   ]
  },
  {
   "cell_type": "code",
   "execution_count": 15,
   "id": "14897751-2e87-4d51-b16f-aea0e2f3aa3f",
   "metadata": {},
   "outputs": [
    {
     "name": "stdout",
     "output_type": "stream",
     "text": [
      "Calculating Square numbers\n",
      "\n",
      "\n",
      "Calculating Cube of numbers\n",
      "\n",
      "Square of Numbers are:  4\n",
      "Cube of Numbers are:  8\n",
      "Square of Numbers are:  9\n",
      "Cube of Numbers are:  27\n",
      "Square of Numbers are:  49\n",
      "Cube of Numbers are:  343\n",
      "Square of Numbers are:  64\n",
      "Cube of Numbers are:  512\n",
      "Square of Numbers are:  9\n",
      "Cube of Numbers are:  27\n",
      "Square of Numbers are:  121\n",
      "Cube of Numbers are:  1331\n",
      "time taken 1.2254090309143066\n"
     ]
    },
    {
     "data": {
      "text/plain": [
       "'\\nThe Time Taken for this code to execute is almost half time\\n\\nIn this code when the function of time.time(0.2) was getting executed in cal_sqr the cal_cube function \\nwas getting executed\\n\\nTherefore the square and cube of 1 number was given in the output from the array\\n\\nMultithreading is typically using when CPU is in idle mode it can do different work\\nWhen calling a web service it might take sometime to response during that time if we want to optimize the \\nperformances of program we can use the CPU for other task that is multithreading\\n\\n'"
      ]
     },
     "execution_count": 15,
     "metadata": {},
     "output_type": "execute_result"
    }
   ],
   "source": [
    "# now we will do same coding with threading included in it \n",
    "\n",
    "\n",
    "import time\n",
    "import threading\n",
    "\n",
    "\n",
    "def cal_sqr(numbers):\n",
    "    print(\"Calculating Square numbers\\n\")\n",
    "    for i in numbers:\n",
    "        time.sleep(0.2)\n",
    "        print(\"Square of Numbers are: \",i*i)\n",
    "\n",
    "def cal_cube(numbers):\n",
    "    print(\"\\nCalculating Cube of numbers\\n\")\n",
    "    for i in numbers:\n",
    "        time.sleep(0.2)\n",
    "        print(\"Cube of Numbers are: \",i*i*i)\n",
    "\n",
    "\n",
    "array = [2,3,7,8,3,11]\n",
    "t = time.time()\n",
    "\n",
    "\n",
    "# the target is the worker function the task we want to execute like mom handling all the task\n",
    "t1 = threading.Thread(target = cal_sqr, args = (array,) )\n",
    "t2 = threading.Thread(target = cal_cube, args = (array,) )\n",
    "\n",
    "# for starting the thread we do\n",
    "t1.start()\n",
    "t2.start()\n",
    "\n",
    "# what the join function does is it will wait until one thread is done and after first is done it will execute\n",
    "t1.join()\n",
    "t2.join()\n",
    "\n",
    "print(\"time taken\", time.time() - t )\n",
    "\n",
    "\n",
    "\"\"\"\n",
    "The Time Taken for this code to execute is almost half time\n",
    "\n",
    "In this code when the function of time.time(0.2) was getting executed in cal_sqr the cal_cube function \n",
    "was getting executed\n",
    "\n",
    "Therefore the square and cube of 1 number was given in the output from the array\n",
    "\n",
    "Multithreading is typically using when CPU is in idle mode it can do different work\n",
    "When calling a web service it might take sometime to response during that time if we want to optimize the \n",
    "performances of program we can use the CPU for other task that is multithreading\n",
    "\n",
    "\"\"\"\n"
   ]
  },
  {
   "cell_type": "markdown",
   "id": "8647b14a-81fd-42bb-9c39-2cf682bf8c1c",
   "metadata": {},
   "source": [
    "# Multiprocessing"
   ]
  },
  {
   "cell_type": "raw",
   "id": "eb0c03dd-79a5-4338-971f-70b77b885f9d",
   "metadata": {},
   "source": [
    "both are ways of achieving of multitasking\n",
    "a process has it on virtual memory or address space \n",
    "in the virtual memory multiple threads are created\n",
    "\n",
    "difference of process and thread\n",
    "\n",
    "the threads share the same address space although they have their own stack memory, instruction pointer\n",
    "\n",
    "Processes have their own address space and if they want to communicate with each they use intercommunication technique like a shared memory, file or a message pipe  \n",
    "\n",
    "Threads are light weight\n",
    "process are heavy weight\n",
    "\n",
    "the benefit of multiprocessing is that the error or memomy leak in one process won't hurt hurt execution of another process meaning if one process is problematic it wont effect other process but if one thread is problematic it create hinderance for other threads too\n",
    "\n",
    "\n"
   ]
  },
  {
   "cell_type": "code",
   "execution_count": 23,
   "id": "6eae2b6d-998c-421e-9a33-3e627c8cfaf3",
   "metadata": {},
   "outputs": [
    {
     "name": "stdout",
     "output_type": "stream",
     "text": [
      "Done\n"
     ]
    }
   ],
   "source": [
    "import multiprocessing\n",
    "\n",
    "def cal_sqr(numbers):\n",
    "    for i in numbers:\n",
    "        print(\"square is \",(i*i))\n",
    "\n",
    "\n",
    "def cal_cube(numbers):\n",
    "    for i in numbers:\n",
    "        print(\"cube is \", (i*i*i))\n",
    "\n",
    "\n",
    "if __name__ == \"__main__\":\n",
    "    array = [2,3,7,8,3,11]\n",
    "    p1 = multiprocessing.Process(target=cal_sqr, args=(array,))\n",
    "    p2 = multiprocessing.Process(target=cal_cube, args=(array,))\n",
    "\n",
    "    p1.start()\n",
    "    p2.start()\n",
    "\n",
    "    p1.join()\n",
    "    p2.join()\n",
    "\n",
    "    print(\"Done\")"
   ]
  },
  {
   "cell_type": "code",
   "execution_count": null,
   "id": "2dfbf722-21f6-4b68-b9a8-dab28fba4a2f",
   "metadata": {},
   "outputs": [],
   "source": []
  },
  {
   "cell_type": "code",
   "execution_count": null,
   "id": "7fd2771a-a9f2-4d3a-9fef-727bd5d38c09",
   "metadata": {},
   "outputs": [],
   "source": []
  },
  {
   "cell_type": "code",
   "execution_count": null,
   "id": "7b7dc699-99d8-4dda-b837-f1b8550b528e",
   "metadata": {},
   "outputs": [],
   "source": []
  },
  {
   "cell_type": "code",
   "execution_count": null,
   "id": "d4e37cb2-1088-4e1a-8fc4-7a530c6ba5f1",
   "metadata": {},
   "outputs": [],
   "source": []
  },
  {
   "cell_type": "code",
   "execution_count": null,
   "id": "ad84becc-b4b6-4e5a-b55d-69fa0a2d9eab",
   "metadata": {},
   "outputs": [],
   "source": []
  },
  {
   "cell_type": "code",
   "execution_count": null,
   "id": "e7a6104f-d466-40ba-9a06-5435fd8cea78",
   "metadata": {},
   "outputs": [],
   "source": []
  },
  {
   "cell_type": "code",
   "execution_count": null,
   "id": "922cbfdb-887c-49ec-b138-85dc20f55ed7",
   "metadata": {},
   "outputs": [],
   "source": []
  },
  {
   "cell_type": "code",
   "execution_count": null,
   "id": "4ed0eed7-87d9-4aa3-8b46-e10e63749d42",
   "metadata": {},
   "outputs": [],
   "source": []
  },
  {
   "cell_type": "code",
   "execution_count": null,
   "id": "a0622950-24dc-4fbb-b7f7-9a3eee023d63",
   "metadata": {},
   "outputs": [],
   "source": []
  },
  {
   "cell_type": "code",
   "execution_count": null,
   "id": "279fdaef-6756-45b2-a282-ade8bb628171",
   "metadata": {},
   "outputs": [],
   "source": []
  },
  {
   "cell_type": "code",
   "execution_count": null,
   "id": "be2c7a7e-1c17-4387-b84f-75238fd2bc90",
   "metadata": {},
   "outputs": [],
   "source": []
  },
  {
   "cell_type": "code",
   "execution_count": null,
   "id": "a768d28a-60cf-4bd0-9977-1efc748866cd",
   "metadata": {},
   "outputs": [],
   "source": []
  },
  {
   "cell_type": "code",
   "execution_count": null,
   "id": "0320f445-988c-4c1f-bd06-5f127ece174d",
   "metadata": {},
   "outputs": [],
   "source": []
  },
  {
   "cell_type": "code",
   "execution_count": null,
   "id": "ef6904fa-091c-491a-9a02-c2b064dbb354",
   "metadata": {},
   "outputs": [],
   "source": []
  },
  {
   "cell_type": "code",
   "execution_count": null,
   "id": "954785e5-2f81-4d40-a614-6490c56f1bed",
   "metadata": {},
   "outputs": [],
   "source": []
  },
  {
   "cell_type": "code",
   "execution_count": null,
   "id": "1fa18f7d-2349-468f-bc59-ecc72df65b08",
   "metadata": {},
   "outputs": [],
   "source": []
  },
  {
   "cell_type": "code",
   "execution_count": null,
   "id": "9e21e9f8-a9cd-4691-9ec4-fabd4b37fb55",
   "metadata": {},
   "outputs": [],
   "source": []
  },
  {
   "cell_type": "code",
   "execution_count": null,
   "id": "260b1055-a8bf-4787-96d2-b294245fdfb0",
   "metadata": {},
   "outputs": [],
   "source": []
  },
  {
   "cell_type": "code",
   "execution_count": null,
   "id": "bebc19c5-c96d-45a4-b845-1852522a56d3",
   "metadata": {},
   "outputs": [],
   "source": []
  },
  {
   "cell_type": "code",
   "execution_count": null,
   "id": "bccbc794-7a31-4ea0-a57f-f3bd1997e95e",
   "metadata": {},
   "outputs": [],
   "source": []
  },
  {
   "cell_type": "code",
   "execution_count": null,
   "id": "b43570d4-909b-470f-9164-5d8eb1b82ae1",
   "metadata": {},
   "outputs": [],
   "source": []
  },
  {
   "cell_type": "code",
   "execution_count": null,
   "id": "3f40f628-928d-4fae-abe0-ed76f8e1ad4e",
   "metadata": {},
   "outputs": [],
   "source": []
  },
  {
   "cell_type": "code",
   "execution_count": null,
   "id": "4a218d5e-2f1c-4063-98e0-763bf66be3af",
   "metadata": {},
   "outputs": [],
   "source": []
  },
  {
   "cell_type": "code",
   "execution_count": null,
   "id": "b33f865c-2165-4528-bc34-765aade0910d",
   "metadata": {},
   "outputs": [],
   "source": []
  },
  {
   "cell_type": "code",
   "execution_count": null,
   "id": "e4eacdd2-fc08-429f-b172-6e3b24402230",
   "metadata": {},
   "outputs": [],
   "source": []
  },
  {
   "cell_type": "code",
   "execution_count": null,
   "id": "7563e9aa-0d24-4c92-b98f-1df4e2b70613",
   "metadata": {},
   "outputs": [],
   "source": []
  },
  {
   "cell_type": "code",
   "execution_count": null,
   "id": "966f4647-a531-427a-95d6-6e7be88f8cf9",
   "metadata": {},
   "outputs": [],
   "source": []
  },
  {
   "cell_type": "code",
   "execution_count": null,
   "id": "a7327250-cba2-40b6-8003-44ac91bf4f54",
   "metadata": {},
   "outputs": [],
   "source": []
  },
  {
   "cell_type": "code",
   "execution_count": null,
   "id": "729a2d45-2a49-4556-b3d4-eae9ae3e27bf",
   "metadata": {},
   "outputs": [],
   "source": []
  },
  {
   "cell_type": "code",
   "execution_count": null,
   "id": "38577f56-3461-4813-82d1-fd83d66a220a",
   "metadata": {},
   "outputs": [],
   "source": []
  },
  {
   "cell_type": "code",
   "execution_count": null,
   "id": "6d89f731-48cb-4425-8d0c-89430b92092e",
   "metadata": {},
   "outputs": [],
   "source": []
  },
  {
   "cell_type": "code",
   "execution_count": null,
   "id": "3aa32fc9-acad-4dd1-94a9-4ba724750aee",
   "metadata": {},
   "outputs": [],
   "source": []
  },
  {
   "cell_type": "code",
   "execution_count": null,
   "id": "7968d073-f2b5-4012-9fd4-0d2af7d1e2a5",
   "metadata": {},
   "outputs": [],
   "source": []
  },
  {
   "cell_type": "code",
   "execution_count": null,
   "id": "ebf7b8bb-7762-4541-9a74-71d381889cbd",
   "metadata": {},
   "outputs": [],
   "source": []
  },
  {
   "cell_type": "code",
   "execution_count": null,
   "id": "47233f30-0add-4679-99ea-dc31594f94dd",
   "metadata": {},
   "outputs": [],
   "source": []
  },
  {
   "cell_type": "code",
   "execution_count": null,
   "id": "ed27f792-9452-4f4c-bd88-d370ac984384",
   "metadata": {},
   "outputs": [],
   "source": []
  },
  {
   "cell_type": "code",
   "execution_count": null,
   "id": "f86ae8c5-68bf-457f-9050-7b284b7808e6",
   "metadata": {},
   "outputs": [],
   "source": []
  },
  {
   "cell_type": "code",
   "execution_count": null,
   "id": "9ca5341b-f34c-46ec-a5c4-26634c7fb7d6",
   "metadata": {},
   "outputs": [],
   "source": []
  },
  {
   "cell_type": "code",
   "execution_count": null,
   "id": "346d6f93-a1f6-4b5f-bdef-65fe6f722a68",
   "metadata": {},
   "outputs": [],
   "source": []
  },
  {
   "cell_type": "code",
   "execution_count": null,
   "id": "9bec3aba-dcbd-45e3-ac49-e98bbc0f6ef5",
   "metadata": {},
   "outputs": [],
   "source": []
  },
  {
   "cell_type": "code",
   "execution_count": null,
   "id": "612cca01-eb5e-428e-ba45-6bf2260c960a",
   "metadata": {},
   "outputs": [],
   "source": []
  },
  {
   "cell_type": "code",
   "execution_count": null,
   "id": "0680c163-6de4-4307-bb79-17352b6f3092",
   "metadata": {},
   "outputs": [],
   "source": []
  }
 ],
 "metadata": {
  "kernelspec": {
   "display_name": "Python 3 (ipykernel)",
   "language": "python",
   "name": "python3"
  },
  "language_info": {
   "codemirror_mode": {
    "name": "ipython",
    "version": 3
   },
   "file_extension": ".py",
   "mimetype": "text/x-python",
   "name": "python",
   "nbconvert_exporter": "python",
   "pygments_lexer": "ipython3",
   "version": "3.12.7"
  }
 },
 "nbformat": 4,
 "nbformat_minor": 5
}
